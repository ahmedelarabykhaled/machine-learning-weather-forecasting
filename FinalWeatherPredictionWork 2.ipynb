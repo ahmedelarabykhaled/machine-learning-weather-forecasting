{
  "nbformat": 4,
  "nbformat_minor": 0,
  "metadata": {
    "colab": {
      "name": "FinalWeatherPredictionWork.ipynb",
      "provenance": []
    },
    "kernelspec": {
      "name": "python3",
      "display_name": "Python 3"
    },
    "language_info": {
      "name": "python"
    }
  },
  "cells": [
    {
      "cell_type": "code",
      "metadata": {
        "id": "NaB97bnM1MNh"
      },
      "source": [
        "import matplotlib.pyplot as plt\n",
        "import pandas as pd\n",
        "from keras.models import Sequential\n",
        "from keras.layers import LSTM, Dense, Dropout, Bidirectional\n",
        "from keras.models import load_model\n",
        "import numpy as np\n",
        "import getWeather\n",
        "import pickle"
      ],
      "execution_count": 10,
      "outputs": []
    },
    {
      "cell_type": "code",
      "metadata": {
        "id": "9RIII7om1yAJ"
      },
      "source": [
        "# read dataset to prepare the days \n",
        "\n",
        "dataset = pd.read_csv('models/weatherHistory.csv')\n",
        "final_summary = pd.DataFrame(dataset)\n",
        "unique_values = final_summary.Summary.unique()\n",
        "final_summary.Summary = pd.Categorical(final_summary.Summary)\n",
        "final_summary['summary_code'] = final_summary.Summary\n",
        "final_summary['Summary'] = final_summary.Summary.cat.codes\n",
        "final_precip_type = pd.DataFrame(dataset)\n",
        "unique_values_precip_types = final_precip_type['Precip Type'].unique()\n",
        "final_precip_type['Precip Type'] = pd.Categorical(final_precip_type['Precip Type'])\n",
        "final_precip_type['precip_type'] = final_precip_type['Precip Type']\n",
        "final_precip_type['Precip Type'] = final_precip_type['Precip Type'].cat.codes\n",
        "tempreature_training_set = final_precip_type.iloc[:,1:11]\n",
        "\n"
      ],
      "execution_count": 11,
      "outputs": []
    },
    {
      "cell_type": "code",
      "metadata": {
        "id": "O5bV8CmiCklL"
      },
      "source": [
        "# prepare the object of weather and the days we want to predict\n",
        "\n",
        "tempreature_training_set = np.array(tempreature_training_set)\n",
        "days = tempreature_training_set[:, 0:11]\n",
        "ModelWeather = getWeather.ModelsPredict(days , [])"
      ],
      "execution_count": 12,
      "outputs": []
    },
    {
      "cell_type": "code",
      "metadata": {
        "colab": {
          "base_uri": "https://localhost:8080/"
        },
        "id": "c1IqUaFW11aw",
        "outputId": "8f0170e8-f659-43ca-9f27-5cc172f33553"
      },
      "source": [
        "# predict the tempreature\n",
        "tempreature = ModelWeather.PredictTempreture()\n",
        "print(tempreature)"
      ],
      "execution_count": 13,
      "outputs": [
        {
          "output_type": "stream",
          "text": [
            "WARNING:tensorflow:Model was constructed with shape (None, 30, 10) for input KerasTensor(type_spec=TensorSpec(shape=(None, 30, 10), dtype=tf.float32, name='bidirectional_2_input'), name='bidirectional_2_input', description=\"created by layer 'bidirectional_2_input'\"), but it was called on an input with incompatible shape (None, 96453, 10).\n",
            "WARNING:tensorflow:5 out of the last 5 calls to <function Model.make_predict_function.<locals>.predict_function at 0x7f9cc3bcec20> triggered tf.function retracing. Tracing is expensive and the excessive number of tracings could be due to (1) creating @tf.function repeatedly in a loop, (2) passing tensors with different shapes, (3) passing Python objects instead of tensors. For (1), please define your @tf.function outside of the loop. For (2), @tf.function has experimental_relax_shapes=True option that relaxes argument shapes that can avoid unnecessary retracing. For (3), please refer to https://www.tensorflow.org/guide/function#controlling_retracing and https://www.tensorflow.org/api_docs/python/tf/function for  more details.\n",
            "[[16.533289 15.790998 15.068702 14.420789 13.898346]]\n"
          ],
          "name": "stdout"
        }
      ]
    },
    {
      "cell_type": "code",
      "metadata": {
        "id": "Kps883h82kEY",
        "colab": {
          "base_uri": "https://localhost:8080/"
        },
        "outputId": "f939a415-fa66-4a72-fa29-ef0edfcfbb92"
      },
      "source": [
        "# predict humdidty\n",
        "humidity = ModelWeather.predictHumidity()\n",
        "print(humidity)"
      ],
      "execution_count": 14,
      "outputs": [
        {
          "output_type": "stream",
          "text": [
            "WARNING:tensorflow:Model was constructed with shape (None, 30, 10) for input KerasTensor(type_spec=TensorSpec(shape=(None, 30, 10), dtype=tf.float32, name='bidirectional_1_input'), name='bidirectional_1_input', description=\"created by layer 'bidirectional_1_input'\"), but it was called on an input with incompatible shape (None, 96453, 10).\n",
            "WARNING:tensorflow:6 out of the last 6 calls to <function Model.make_predict_function.<locals>.predict_function at 0x7f9cae6e6200> triggered tf.function retracing. Tracing is expensive and the excessive number of tracings could be due to (1) creating @tf.function repeatedly in a loop, (2) passing tensors with different shapes, (3) passing Python objects instead of tensors. For (1), please define your @tf.function outside of the loop. For (2), @tf.function has experimental_relax_shapes=True option that relaxes argument shapes that can avoid unnecessary retracing. For (3), please refer to https://www.tensorflow.org/guide/function#controlling_retracing and https://www.tensorflow.org/api_docs/python/tf/function for  more details.\n",
            "[[0.47961417 0.5510497  0.62461424 0.68447566 0.7255658 ]]\n"
          ],
          "name": "stdout"
        }
      ]
    },
    {
      "cell_type": "code",
      "metadata": {
        "id": "1Fqak34i2pox",
        "colab": {
          "base_uri": "https://localhost:8080/"
        },
        "outputId": "9cb155bf-5222-46e8-c68d-dc9973354cc0"
      },
      "source": [
        "# predict load cover\n",
        "loadCover = ModelWeather.predictLoadCover()\n",
        "print(loadCover)"
      ],
      "execution_count": 15,
      "outputs": [
        {
          "output_type": "stream",
          "text": [
            "WARNING:tensorflow:Model was constructed with shape (None, 30, 10) for input KerasTensor(type_spec=TensorSpec(shape=(None, 30, 10), dtype=tf.float32, name='bidirectional_input'), name='bidirectional_input', description=\"created by layer 'bidirectional_input'\"), but it was called on an input with incompatible shape (None, 96453, 10).\n",
            "WARNING:tensorflow:7 out of the last 7 calls to <function Model.make_predict_function.<locals>.predict_function at 0x7f9cc3b81b90> triggered tf.function retracing. Tracing is expensive and the excessive number of tracings could be due to (1) creating @tf.function repeatedly in a loop, (2) passing tensors with different shapes, (3) passing Python objects instead of tensors. For (1), please define your @tf.function outside of the loop. For (2), @tf.function has experimental_relax_shapes=True option that relaxes argument shapes that can avoid unnecessary retracing. For (3), please refer to https://www.tensorflow.org/guide/function#controlling_retracing and https://www.tensorflow.org/api_docs/python/tf/function for  more details.\n",
            "[[0. 0. 0. 0. 0.]]\n"
          ],
          "name": "stdout"
        }
      ]
    },
    {
      "cell_type": "code",
      "metadata": {
        "id": "xz_FezTh2vFX",
        "colab": {
          "base_uri": "https://localhost:8080/"
        },
        "outputId": "888862b5-e205-492b-f7c5-6af619eb2158"
      },
      "source": [
        "# predict wind\n",
        "wind = ModelWeather.predictWind()\n",
        "print(wind)"
      ],
      "execution_count": 16,
      "outputs": [
        {
          "output_type": "stream",
          "text": [
            "WARNING:tensorflow:Model was constructed with shape (None, 30, 2) for input KerasTensor(type_spec=TensorSpec(shape=(None, 30, 2), dtype=tf.float32, name='bidirectional_3_input'), name='bidirectional_3_input', description=\"created by layer 'bidirectional_3_input'\"), but it was called on an input with incompatible shape (None, 96453, 2).\n",
            "WARNING:tensorflow:8 out of the last 8 calls to <function Model.make_predict_function.<locals>.predict_function at 0x7f9cadd8f830> triggered tf.function retracing. Tracing is expensive and the excessive number of tracings could be due to (1) creating @tf.function repeatedly in a loop, (2) passing tensors with different shapes, (3) passing Python objects instead of tensors. For (1), please define your @tf.function outside of the loop. For (2), @tf.function has experimental_relax_shapes=True option that relaxes argument shapes that can avoid unnecessary retracing. For (3), please refer to https://www.tensorflow.org/guide/function#controlling_retracing and https://www.tensorflow.org/api_docs/python/tf/function for  more details.\n",
            "[[7.563285 7.894671 8.207088 8.45972  9.24012 ]]\n"
          ],
          "name": "stdout"
        }
      ]
    },
    {
      "cell_type": "code",
      "metadata": {
        "id": "mjDdgGAz3U33",
        "colab": {
          "base_uri": "https://localhost:8080/"
        },
        "outputId": "bda67868-e08d-4b2c-cd38-610d7fea1775"
      },
      "source": [
        "# collect the past results to prepare the prediction of the weather summary\n",
        "\n",
        "summaryarray =  [[0] * 4 for i in range(5)]\n",
        "for i in range (5):\n",
        "  summaryarray[i][0] = tempreature [0][i]\n",
        "  summaryarray[i][1] = humidity [0][i]\n",
        "  summaryarray[i][2] = wind  [0][i]\n",
        "  summaryarray[i][3] = loadCover [0][i]\n",
        "print(summaryarray)"
      ],
      "execution_count": 17,
      "outputs": [
        {
          "output_type": "stream",
          "text": [
            "[[16.533289, 0.47961417, 7.563285, 0.0], [15.790998, 0.5510497, 7.894671, 0.0], [15.068702, 0.62461424, 8.207088, 0.0], [14.420789, 0.68447566, 8.45972, 0.0], [13.898346, 0.7255658, 9.24012, 0.0]]\n"
          ],
          "name": "stdout"
        }
      ]
    },
    {
      "cell_type": "code",
      "metadata": {
        "id": "2MNm5DesBm8B",
        "outputId": "d2c57d60-9af4-476a-ee83-796668f011e0",
        "colab": {
          "base_uri": "https://localhost:8080/"
        }
      },
      "source": [
        "# predict the summary \n",
        "\n",
        "summaryWeather = getWeather.ModelsPredict([] , summaryarray )\n",
        "Summary = summaryWeather.Summary()\n",
        "print(Summary)"
      ],
      "execution_count": 18,
      "outputs": [
        {
          "output_type": "stream",
          "text": [
            "['Partly Cloudy' 'Clear' 'Partly Cloudy' 'Clear' 'Mostly Cloudy']\n"
          ],
          "name": "stdout"
        }
      ]
    }
  ]
}