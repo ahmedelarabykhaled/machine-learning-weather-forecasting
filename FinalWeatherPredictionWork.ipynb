{
  "nbformat": 4,
  "nbformat_minor": 0,
  "metadata": {
    "colab": {
      "name": "FinalWeatherPredictionWork.ipynb",
      "provenance": []
    },
    "kernelspec": {
      "name": "python3",
      "display_name": "Python 3"
    },
    "language_info": {
      "name": "python"
    }
  },
  "cells": [
    {
      "cell_type": "code",
      "metadata": {
        "id": "NaB97bnM1MNh"
      },
      "source": [
        "import matplotlib.pyplot as plt\n",
        "import pandas as pd\n",
        "from keras.models import Sequential\n",
        "from keras.layers import LSTM, Dense, Dropout, Bidirectional\n",
        "from keras.models import load_model\n",
        "import numpy as np\n",
        "import getWeather\n"
      ],
      "execution_count": 1,
      "outputs": []
    },
    {
      "cell_type": "code",
      "metadata": {
        "id": "9RIII7om1yAJ"
      },
      "source": [
        "dataset = pd.read_csv('models/weatherHistory.csv')\n",
        "final_summary = pd.DataFrame(dataset)\n",
        "unique_values = final_summary.Summary.unique()\n",
        "final_summary.Summary = pd.Categorical(final_summary.Summary)\n",
        "final_summary['summary_code'] = final_summary.Summary\n",
        "final_summary['Summary'] = final_summary.Summary.cat.codes\n",
        "final_precip_type = pd.DataFrame(dataset)\n",
        "unique_values_precip_types = final_precip_type['Precip Type'].unique()\n",
        "final_precip_type['Precip Type'] = pd.Categorical(final_precip_type['Precip Type'])\n",
        "final_precip_type['precip_type'] = final_precip_type['Precip Type']\n",
        "final_precip_type['Precip Type'] = final_precip_type['Precip Type'].cat.codes\n",
        "tempreature_training_set = final_precip_type.iloc[:,1:11]\n",
        "\n"
      ],
      "execution_count": 2,
      "outputs": []
    },
    {
      "cell_type": "code",
      "metadata": {
        "colab": {
          "base_uri": "https://localhost:8080/"
        },
        "id": "c1IqUaFW11aw",
        "outputId": "acaf4b67-6ee9-45d4-ddf1-30caaebc130d"
      },
      "source": [
        "tempreature_training_set = np.array(tempreature_training_set)\n",
        "days = tempreature_training_set[:, 0:11]\n",
        "ModelWeather = getWeather.ModelsPredict(days , [])\n",
        "tempreature = ModelWeather.PredictTempreture()\n",
        "print(tempreature)"
      ],
      "execution_count": 4,
      "outputs": [
        {
          "output_type": "stream",
          "text": [
            "WARNING:tensorflow:Model was constructed with shape (None, 30, 10) for input KerasTensor(type_spec=TensorSpec(shape=(None, 30, 10), dtype=tf.float32, name='bidirectional_2_input'), name='bidirectional_2_input', description=\"created by layer 'bidirectional_2_input'\"), but it was called on an input with incompatible shape (None, 12300, 10).\n",
            "[[8.88419  8.982492 9.003601 8.879715 8.66197 ]]\n"
          ],
          "name": "stdout"
        }
      ]
    },
    {
      "cell_type": "code",
      "metadata": {
        "id": "Kps883h82kEY",
        "colab": {
          "base_uri": "https://localhost:8080/"
        },
        "outputId": "ff85eb05-78f2-441f-be12-36acf7440193"
      },
      "source": [
        "tempreature_training_set = np.array(tempreature_training_set)\n",
        "days = tempreature_training_set[:, 0:11]\n",
        "ModelWeather = getWeather.ModelsPredict(days , [])\n",
        "humidity = ModelWeather.predictHumidity()\n",
        "print(humidity)"
      ],
      "execution_count": 7,
      "outputs": [
        {
          "output_type": "stream",
          "text": [
            "WARNING:tensorflow:Model was constructed with shape (None, 30, 10) for input KerasTensor(type_spec=TensorSpec(shape=(None, 30, 10), dtype=tf.float32, name='bidirectional_1_input'), name='bidirectional_1_input', description=\"created by layer 'bidirectional_1_input'\"), but it was called on an input with incompatible shape (None, 12300, 10).\n",
            "WARNING:tensorflow:5 out of the last 5 calls to <function Model.make_predict_function.<locals>.predict_function at 0x7f7a68c1ca70> triggered tf.function retracing. Tracing is expensive and the excessive number of tracings could be due to (1) creating @tf.function repeatedly in a loop, (2) passing tensors with different shapes, (3) passing Python objects instead of tensors. For (1), please define your @tf.function outside of the loop. For (2), @tf.function has experimental_relax_shapes=True option that relaxes argument shapes that can avoid unnecessary retracing. For (3), please refer to https://www.tensorflow.org/guide/function#controlling_retracing and https://www.tensorflow.org/api_docs/python/tf/function for  more details.\n",
            "[[0.81367993 0.8254775  0.8328848  0.83860844 0.84506416]]\n"
          ],
          "name": "stdout"
        }
      ]
    },
    {
      "cell_type": "code",
      "metadata": {
        "id": "1Fqak34i2pox",
        "colab": {
          "base_uri": "https://localhost:8080/"
        },
        "outputId": "247080b2-9a17-494d-865b-6e2b6593e79a"
      },
      "source": [
        "tempreature_training_set = np.array(tempreature_training_set)\n",
        "days = tempreature_training_set[:, 0:11]\n",
        "ModelWeather = getWeather.ModelsPredict(days , [])\n",
        "loadCover = ModelWeather.predictLoadCover()\n",
        "print(loadCover)"
      ],
      "execution_count": 8,
      "outputs": [
        {
          "output_type": "stream",
          "text": [
            "WARNING:tensorflow:Model was constructed with shape (None, 30, 10) for input KerasTensor(type_spec=TensorSpec(shape=(None, 30, 10), dtype=tf.float32, name='bidirectional_input'), name='bidirectional_input', description=\"created by layer 'bidirectional_input'\"), but it was called on an input with incompatible shape (None, 12300, 10).\n",
            "WARNING:tensorflow:6 out of the last 6 calls to <function Model.make_predict_function.<locals>.predict_function at 0x7f7a68cb9ef0> triggered tf.function retracing. Tracing is expensive and the excessive number of tracings could be due to (1) creating @tf.function repeatedly in a loop, (2) passing tensors with different shapes, (3) passing Python objects instead of tensors. For (1), please define your @tf.function outside of the loop. For (2), @tf.function has experimental_relax_shapes=True option that relaxes argument shapes that can avoid unnecessary retracing. For (3), please refer to https://www.tensorflow.org/guide/function#controlling_retracing and https://www.tensorflow.org/api_docs/python/tf/function for  more details.\n",
            "[[0. 0. 0. 0. 0.]]\n"
          ],
          "name": "stdout"
        }
      ]
    },
    {
      "cell_type": "code",
      "metadata": {
        "id": "xz_FezTh2vFX",
        "colab": {
          "base_uri": "https://localhost:8080/"
        },
        "outputId": "b353d2bd-ff88-4d47-d7c4-49ee3fe503b8"
      },
      "source": [
        "tempreature_training_set = np.array(tempreature_training_set)\n",
        "days = tempreature_training_set[: , 0:11]\n",
        "ModelWeather = getWeather.ModelsPredict(days , [])\n",
        "wind = ModelWeather.predictWind()\n",
        "print(wind)"
      ],
      "execution_count": 16,
      "outputs": [
        {
          "output_type": "stream",
          "text": [
            "WARNING:tensorflow:Model was constructed with shape (None, 30, 2) for input KerasTensor(type_spec=TensorSpec(shape=(None, 30, 2), dtype=tf.float32, name='bidirectional_3_input'), name='bidirectional_3_input', description=\"created by layer 'bidirectional_3_input'\"), but it was called on an input with incompatible shape (None, 12300, 2).\n",
            "WARNING:tensorflow:11 out of the last 11 calls to <function Model.make_predict_function.<locals>.predict_function at 0x7f7a62b5f9e0> triggered tf.function retracing. Tracing is expensive and the excessive number of tracings could be due to (1) creating @tf.function repeatedly in a loop, (2) passing tensors with different shapes, (3) passing Python objects instead of tensors. For (1), please define your @tf.function outside of the loop. For (2), @tf.function has experimental_relax_shapes=True option that relaxes argument shapes that can avoid unnecessary retracing. For (3), please refer to https://www.tensorflow.org/guide/function#controlling_retracing and https://www.tensorflow.org/api_docs/python/tf/function for  more details.\n",
            "[[ 9.895529  9.024424  9.62767  10.938923 11.077234]]\n"
          ],
          "name": "stdout"
        }
      ]
    },
    {
      "cell_type": "code",
      "metadata": {
        "id": "mjDdgGAz3U33",
        "colab": {
          "base_uri": "https://localhost:8080/"
        },
        "outputId": "2ff386fb-adcb-47b3-90be-4acf33801b7d"
      },
      "source": [
        "summaryarray =  [[0] * 4 for i in range(5)]\n",
        "for i in range (5):\n",
        "  summaryarray[i][0] = tempreature [0][i]\n",
        "  summaryarray[i][1] = humidity [0][i]\n",
        "  summaryarray[i][2] = wind  [0][i]\n",
        "  summaryarray[i][3] = loadCover [0][i]\n",
        "print(summaryarray)"
      ],
      "execution_count": 10,
      "outputs": [
        {
          "output_type": "stream",
          "text": [
            "[[8.88419, 0.81367993, 11.399976, 0.0], [8.982492, 0.8254775, 11.080125, 0.0], [9.003601, 0.8328848, 10.657753, 0.0], [8.879715, 0.83860844, 9.507294, 0.0], [8.66197, 0.84506416, 8.765035, 0.0]]\n"
          ],
          "name": "stdout"
        }
      ]
    },
    {
      "cell_type": "code",
      "metadata": {
        "colab": {
          "base_uri": "https://localhost:8080/"
        },
        "id": "40qgdSHN9fVH",
        "outputId": "3e6d0c88-dbf7-404a-a992-702ce0b6da5d"
      },
      "source": [
        "import pickle\n",
        "summaryArray = np.array(summaryarray)\n",
        "summary_model = pickle.load(open('models/summary.h5', 'rb'))\n",
        "summaryResult = summary_model.predict(summaryArray)\n",
        "print(summaryResult)"
      ],
      "execution_count": 11,
      "outputs": [
        {
          "output_type": "stream",
          "text": [
            "['Partly Cloudy' 'Mostly Cloudy' 'Mostly Cloudy' 'Mostly Cloudy'\n",
            " 'Overcast']\n"
          ],
          "name": "stdout"
        }
      ]
    },
    {
      "cell_type": "code",
      "metadata": {
        "colab": {
          "base_uri": "https://localhost:8080/"
        },
        "id": "9llPBRha-loL",
        "outputId": "8cc0577f-6957-4ba4-aeb5-a32a2b5f7ddd"
      },
      "source": [
        ""
      ],
      "execution_count": null,
      "outputs": [
        {
          "output_type": "execute_result",
          "data": {
            "text/plain": [
              "array(['Mostly Cloudy', 'Overcast', 'Overcast', 'Partly Cloudy',\n",
              "       'Mostly Cloudy'], dtype=object)"
            ]
          },
          "metadata": {
            "tags": []
          },
          "execution_count": 19
        }
      ]
    }
  ]
}